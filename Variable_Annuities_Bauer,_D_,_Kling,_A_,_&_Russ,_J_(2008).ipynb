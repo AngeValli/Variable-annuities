{
  "nbformat": 4,
  "nbformat_minor": 0,
  "metadata": {
    "colab": {
      "name": "Variable Annuities Bauer, D., Kling, A., & Russ, J. (2008).ipynb",
      "provenance": [],
      "collapsed_sections": [],
      "authorship_tag": "ABX9TyPJwCpImsoUDr1MjNfPOoCg"
    },
    "kernelspec": {
      "name": "python3",
      "display_name": "Python 3"
    },
    "language_info": {
      "name": "python"
    }
  },
  "cells": [
    {
      "cell_type": "markdown",
      "source": [
        "See notebook in Google Colab : https://colab.research.google.com/drive/1JNaNhxlx_neYByuoS0BeYc87O1LsMQPQ?usp=sharing"
      ],
      "metadata": {
        "id": "DUzepYOccHaM"
      }
    },
    {
      "cell_type": "code",
      "source": [
        "from google.colab import files"
      ],
      "metadata": {
        "id": "3OWpap8tYmOc"
      },
      "execution_count": null,
      "outputs": []
    },
    {
      "cell_type": "markdown",
      "source": [
        "# Imports"
      ],
      "metadata": {
        "id": "ie5FbAcdRHkb"
      }
    },
    {
      "cell_type": "code",
      "source": [
        "import numpy as np\n",
        "from scipy.stats import norm, poisson\n",
        "import pandas as pd\n",
        "import matplotlib.pyplot as plt\n",
        "from random import gauss\n",
        "import math"
      ],
      "metadata": {
        "id": "gialyHRK9-Zf"
      },
      "execution_count": null,
      "outputs": []
    },
    {
      "cell_type": "markdown",
      "source": [
        "# Variable initalizations"
      ],
      "metadata": {
        "id": "vdUU99XGTn2U"
      }
    },
    {
      "cell_type": "code",
      "source": [
        "phi = 0.1 # Continuous guarantee fees\n",
        "G = gauss(0.0, 1.0) # Gaussian ? Value\n",
        "T = 25 # Contract term\n",
        "t = list(range(0,T,1)) # Policy anniversary dates\n",
        "r = 0.04 # Interest rate\n",
        "sigma = 0.15 # Volatility\n",
        "P = 10000. # Single premium amount\n",
        "s = 0.05 # Surrender fee\n",
        "x0 = 40 # Age of the insured\n",
        "A0 = P # Account Value\n",
        "\n",
        "W0 = 0. # Cumulative withdrawals\n",
        "D0 = 0. # Value of the death benefits\n",
        "B0 = 1. # Bank account\n",
        "S0 = 1. # Mutual fund of the variable annuity\n",
        "xw = 1. # Portion of the premium that can be withdrawn annually ? Value\n",
        "\n",
        "GD = A0 # GMDB = Guaranteed Minimum Death Benefits\n",
        "GA = A0 # GMAB = Guaranteed Benefits\n",
        "GI = A0 # GMIB\n",
        "GW = A0 # GMWB = Remaining total amount that can be withdrawn annually\n",
        "GE = xw*A0 # GMWB : Maximum amount that can be withdrawn annually\n",
        "At = A0\n",
        "Wt = W0\n",
        "Dt = D0\n",
        "\n",
        "step_up_factor = 0.\n",
        "withdrawal_counts = 0\n",
        "\n",
        "a_current = 1 # Annuitization factors\n",
        "a_guar = 1\n",
        "\n",
        "# Variables to initialize\n",
        "already_dead=False\n",
        "plot_Bt = []\n",
        "plot_St = []\n",
        "plot_At = []"
      ],
      "metadata": {
        "id": "NBobY9nkjJY3"
      },
      "execution_count": null,
      "outputs": []
    },
    {
      "cell_type": "markdown",
      "source": [
        "# Options to choose"
      ],
      "metadata": {
        "id": "6h2Vc6c1Tz5M"
      }
    },
    {
      "cell_type": "code",
      "source": [
        "GMDB = True\n",
        "GMIB = False\n",
        "GMAB = False\n",
        "GMWB = False\n",
        "roll_up = False\n",
        "ratchet = False\n",
        "step_up = False"
      ],
      "metadata": {
        "id": "J7UziGAFUGwe"
      },
      "execution_count": null,
      "outputs": []
    },
    {
      "cell_type": "markdown",
      "source": [
        "# Main code"
      ],
      "metadata": {
        "id": "5se6ezkFURWE"
      }
    },
    {
      "cell_type": "code",
      "source": [
        "for i in range(len(t)) :\n",
        "\n",
        "  # Update plots\n",
        "  plot_At.append(At)\n",
        "\n",
        "  # Random happenings :\n",
        "  if not already_dead :\n",
        "    death = False if np.random.random() < 0.99 else True\n",
        "  if death :\n",
        "    already_dead = True\n",
        "  withdrawal = False if np.random.random() < 0.7 else True\n",
        "  if withdrawal :\n",
        "    Et = np.random.random()*At # The insured withdraw an amount between 0 and the total amount At.\n",
        "  surrender = False if np.random.random() < 0.5 else True\n",
        "\n",
        "  #\n",
        "  # Computing :\n",
        "  Bt = B0*np.exp(r*t[i])\n",
        "  St = S0*np.exp((r-1/2*sigma**2)*t[i] + sigma*G)\n",
        "  At = At*np.exp(r-phi-1/2*sigma**2 + sigma*G)\n",
        "  \n",
        "  if i < len(t)-1 : # Before maturity\n",
        "\n",
        "    # Between t+ and (t+1)-\n",
        "\n",
        "    # A_(t+1)- = A_t+ * (S_t+1/S_t) * np.exp(-phi)\n",
        "    # W_(t+1)- = W_t+ * np.exp(int^(t+1)_t (r) )\n",
        "    # D_(t+1)- = D_t+ * np.exp(int^(t+1)_t (r) )\n",
        "    # If guarantee benefit is a single premium or ratchet (it is adjusted after possible withdrawals):\n",
        "      # GD_(t+1)- = GD_t+ or GA_(t+1)- = GA_t+ or GI_(t+1)- = GI_t+\n",
        "    # If roll-up (roll-up rate i) :\n",
        "      # GD_(t+1)- = GD_t+(1+i) or GA_(t+1)- = GA_t+(1+i) or GI_(t+1)- = GI_t+(1+i)\n",
        "    # GW_(t+1)- = GW_t+ and GE_(t+1)- = GE_t+\n",
        "\n",
        "    Wt = Wt*np.exp(r*(t[i+1] - t[i]))\n",
        "    Dt = Dt*np.exp(r*(t[i+1] - t[i]))\n",
        "    if roll_up :\n",
        "      if GMDB :\n",
        "        GD = GD*(1+roll_up)\n",
        "      if GMIB :\n",
        "        GI = GI*(1+roll_up)\n",
        "      if GMAB :\n",
        "        GA = GA*(1+roll_up)\n",
        "    \n",
        "    # Between (t+1)- and (t+1)+\n",
        "\n",
        "  # a) If the insured dies in (t, t+1], we consider a death at t+1 : \n",
        "    # We credit the death benefit to the death benefit account and the we compound it with the risk free rate until maturity T : D_(t+1)+ = D_(t+1)- + max(GD_(t+1)-, A_(t+1)-)\n",
        "    # No future benefits are possible so A_(t+1)+ = 0 and GA_(t+1)+ = GI_(t+1)+ = GW_(t+1)+ = GD_(t+1)+ = GE_(t+1)+ = 0\n",
        "    # The withdrawal account does not change : W_(t+1)+ = W_(t+1)-\n",
        "\n",
        "    if death : \n",
        "      Dt = Dt + max(GD, At)\n",
        "      At, GA, GI, GW, GD, GE = 0, 0, 0, 0, 0, 0\n",
        "      withdrawal_counts += 1\n",
        "    else :\n",
        "\n",
        "      # b) If the insured survives the year (t,t+1] and there are no withdrawal and no surrender at t+1 : \n",
        "        # D and W does not change : A_(t+1)+ = A_(t+1)-, D_(t+1)+ = D_(t+1)-, W_(t+1)+ = W_(t+1)-\n",
        "          # with no ratchet guarantee : GA_(t+1)+ = GA_(t+1)- or GI_(t+1)+ = GI_(t+1)- or GD_(t+1)+ = GD_(t+1)-\n",
        "          # if ratchet on A, I or D respectively : GA_(t+1)+ = max(GA_(t+1)-, A_(t+1)+) or GI_(t+1)+ = max(GI_(t+1)-, A_(t+1)+) or GD_(t+1)+ = max(GD_(t+1)-, A_(t+1)+)\n",
        "        # if GMWB option with step-up and t+1 is a step-up point : \n",
        "          # if there is no past withdrawals : we denote by i_(w_(t+1)) the factor by which the total amount to be withdrawn is increased.\n",
        "          # We update by GW_(t+1)+ = GW_(t+1)- * (1 + 1|_{W_(t+1)-=0}*i_(w_(t+1))) and GE_(t+1)+ = xw*GW_(t+1)+\n",
        "          # Otherwise, GW_(t+1)+ = GW_(t+1)- and GE_(t+1)+ = GE_(t+1)-\n",
        "\n",
        "      if not surrender and not withdrawal :\n",
        "        if ratchet :\n",
        "          if GMDB :\n",
        "            GD = max(GD,At)\n",
        "          if GMIB :\n",
        "            GI = max(GI,At)\n",
        "          if GMAB :\n",
        "            GA = max(GA,At)\n",
        "        if step_up and withdrawal_counts == 0 :\n",
        "          if GMWB :\n",
        "            if Wt == 0 :\n",
        "              GW = GW * (1+step_up_factor)\n",
        "            GE = xw*GW\n",
        "      \n",
        "      # c) The insured survives the year (t,t+1] and withdraws an amount WITHIN the limits of the GMWB option\n",
        "        # The withdrawn E_(t+1) may neither exceed the maximal annual withdrawal amount GE_(t+1)- nor the remaining total withdrawal amount GW_(t+1)-\n",
        "        # A_(t+1)+ = max(0,A_(t+1)- - E_(t+1))\n",
        "        # GW_(t+1)+ = GW_(t+1)- - E_(t+1)\n",
        "        # W_(t+1)+ = W_(t+1)- - E_(t+1)\n",
        "        # Pro rata adjustment : \n",
        "          # With no ratchet : GA_(t+1)+ = (A_(t+1)+/A_(t+1)-)*GA_(t+1)- or GI_(t+1)+ = (A_(t+1)+/A_(t+1)-)*GI_(t+1)- or GD_(t+1)+ = (A_(t+1)+/A_(t+1)-)*GD_(t+1)-\n",
        "          # If ratchet : GA_(t+1)+ = max(A_(t+1)+,(A_(t+1)+/A_(t+1)-)*GA_(t+1)-) or GI_(t+1)+ = max(A_(t+1)+,(A_(t+1)+/A_(t+1)-)*GI_(t+1)-) or GD_(t+1)+ = max(A_(t+1)+,(A_(t+1)+/A_(t+1)-)*GD_(t+1)-)\n",
        "\n",
        "      if withdrawal and not surrender and Et <= min(GE,GW): # c) If the insured survives the year (t,t+1] and withdraws an amount within the limits of the GMWB option\n",
        "        past_At = At\n",
        "        At = max(0,At-Et)\n",
        "        GW = GW - Et\n",
        "        Wt = Wt + Et\n",
        "        if ratchet :\n",
        "          if GMDB :\n",
        "            GD = (At/past_At) * GD\n",
        "          if GMIB :\n",
        "            GI = (At/past_At) * GI\n",
        "          if GMAB :\n",
        "            GA = (At/past_At) * GA\n",
        "        else :\n",
        "          if GMDB :\n",
        "            GD = max(At,(At/past_At) * GD)\n",
        "          if GMIB :\n",
        "            GI = max(At,(At/past_At) * GI)\n",
        "          if GMAB :\n",
        "            GA = max(At,(At/past_At) * GA)\n",
        "\n",
        "      # d)The insured survives the year (t,t+1] and withdraws an amount exceeding the limits of the GMWB option\n",
        "        # d1) The contract does not comprise a GMWB option and an amount 0 < E_(t+1) < A_(t+1)-\n",
        "        # d2) A GMWB option is included in the contract, but the insured withdraws an amount 0 < E_(t+1) < A_(t+1)- with E_(t+1) > min(GE_(t+1)-, GW_(t+1)-)\n",
        "        # d3) The insured surrenders by withdrawing the amount E_(t+1) = A_(t+1)-\n",
        "\n",
        "      if withdrawal and Et > min(GE,GW):\n",
        "        Et1 = min(GE, GW)\n",
        "        Et2 = Et - Et1\n",
        "        past_At = At\n",
        "        At = At-Et\n",
        "        if surrender :\n",
        "          Wt = Wt + Et1 + Et2*(1-s) # surrender fee\n",
        "        if ratchet :\n",
        "          if GMDB :\n",
        "            GD = (At/past_At) * GD\n",
        "          if GMIB :\n",
        "            GI = (At/past_At) * GI\n",
        "          if GMAB :\n",
        "            GA = (At/past_At) * GA\n",
        "        else :\n",
        "          if GMDB :\n",
        "            GD = max(At,(At/past_At) * GD)\n",
        "          if GMIB :\n",
        "            GI = max(At,(At/past_At) * GI)\n",
        "          if GMAB :\n",
        "            GA = max(At,(At/past_At) * GA)\n",
        "        if GMWB :\n",
        "          GW = min(GW - Et, GW * (At/past_At))\n",
        "          GE = GE * (At/past_At)\n",
        "\n",
        "  else : # At maturity T\n",
        "\n",
        "      if not GMIB and not GMAB :\n",
        "        LT = At\n",
        "      else :\n",
        "        if GMAB :\n",
        "          LAT = max(At, GA)\n",
        "        if GMIB :\n",
        "          LIT = max(At, GI * a_current/a_guar)\n",
        "        if GMAB and GMIB :\n",
        "          LT = max(LAT, LIT)\n",
        "        else :\n",
        "          LT = LAT if GMAB else LIT"
      ],
      "metadata": {
        "id": "WFan17Y198z0"
      },
      "execution_count": null,
      "outputs": []
    },
    {
      "cell_type": "code",
      "source": [
        "plt.figure(\"Trajectoire de l'acompte\")\n",
        "plt.title(\"Trajectoire de l'acompte\")\n",
        "plt.plot(plot_At)\n",
        "plt.savefig(\"Trajectoire de l'acompte.svg\")"
      ],
      "metadata": {
        "colab": {
          "base_uri": "https://localhost:8080/",
          "height": 281
        },
        "id": "cWbFM5ZxW5o8",
        "outputId": "a0b02fd1-3d21-4da8-9cc1-cfa85ab32885"
      },
      "execution_count": null,
      "outputs": [
        {
          "output_type": "display_data",
          "data": {
            "image/png": "[encoded data removed]",
            "text/plain": [
              "<Figure size 432x288 with 1 Axes>"
            ]
          },
          "metadata": {
            "needs_background": "light"
          }
        }
      ]
    },
    {
      "cell_type": "code",
      "source": [
        "#files.download('Trajectoire de l\\'acompte.svg')"
      ],
      "metadata": {
        "colab": {
          "base_uri": "https://localhost:8080/",
          "height": 17
        },
        "id": "lxpcM-xxYVML",
        "outputId": "35406d47-e4ec-4474-cca6-30573b41171b"
      },
      "execution_count": null,
      "outputs": [
        {
          "output_type": "display_data",
          "data": {
            "application/javascript": [
              "\n",
              "    async function download(id, filename, size) {\n",
              "      if (!google.colab.kernel.accessAllowed) {\n",
              "        return;\n",
              "      }\n",
              "      const div = document.createElement('div');\n",
              "      const label = document.createElement('label');\n",
              "      label.textContent = `Downloading \"${filename}\": `;\n",
              "      div.appendChild(label);\n",
              "      const progress = document.createElement('progress');\n",
              "      progress.max = size;\n",
              "      div.appendChild(progress);\n",
              "      document.body.appendChild(div);\n",
              "\n",
              "      const buffers = [];\n",
              "      let downloaded = 0;\n",
              "\n",
              "      const channel = await google.colab.kernel.comms.open(id);\n",
              "      // Send a message to notify the kernel that we're ready.\n",
              "      channel.send({})\n",
              "\n",
              "      for await (const message of channel.messages) {\n",
              "        // Send a message to notify the kernel that we're ready.\n",
              "        channel.send({})\n",
              "        if (message.buffers) {\n",
              "          for (const buffer of message.buffers) {\n",
              "            buffers.push(buffer);\n",
              "            downloaded += buffer.byteLength;\n",
              "            progress.value = downloaded;\n",
              "          }\n",
              "        }\n",
              "      }\n",
              "      const blob = new Blob(buffers, {type: 'application/binary'});\n",
              "      const a = document.createElement('a');\n",
              "      a.href = window.URL.createObjectURL(blob);\n",
              "      a.download = filename;\n",
              "      div.appendChild(a);\n",
              "      a.click();\n",
              "      div.remove();\n",
              "    }\n",
              "  "
            ],
            "text/plain": [
              "<IPython.core.display.Javascript object>"
            ]
          },
          "metadata": {}
        },
        {
          "output_type": "display_data",
          "data": {
            "application/javascript": [
              "download(\"download_db1617bf-0c4b-48b2-96c7-f4e41eb32d0e\", \"Trajectoire de l'acompte.svg\", 26167)"
            ],
            "text/plain": [
              "<IPython.core.display.Javascript object>"
            ]
          },
          "metadata": {}
        }
      ]
    }
  ]
}